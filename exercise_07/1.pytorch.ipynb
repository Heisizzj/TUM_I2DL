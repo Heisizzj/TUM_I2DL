{
 "cells": [
  {
   "cell_type": "markdown",
   "metadata": {},
   "source": [
    "# PyTorch Introduction\n",
    "\n",
    "Welcome to the introduction of PyTorch. PyTorch is a scientific computing package targeted for two main purposes: \n",
    "\n",
    "1. A replacement for NumPy with the ability to use the power of GPUs.\n",
    "\n",
    "2. A deep learning framework that enables the flexible and swift building of neural network models.\n",
    "\n",
    "Let's get started!\n",
    "\n",
    "\n",
    "### Goals of this tutorial\n",
    "\n",
    "- Understanding PyTorch's Tensor and neural networks libraries at an overview level.\n",
    "\n",
    "- Training a neural network using PyTorch.\n",
    "\n",
    "\n",
    "# Installing PyTorch\n",
    "\n",
    "Pytorch provides support for accelerating computation using CUDA enabled GPU's. If your workstation has an NVIDIA GPU, install PyTorch along with the CUDA component."
   ]
  },
  {
   "cell_type": "markdown",
   "metadata": {},
   "source": [
    "#### Install [PyTorch](https://pytorch.org/) and [torchvision](https://github.com/pytorch/vision) (CPU version)\n",
    "\n",
    "For this class we will use the current Pytorch version 1.7. To install, please uncomment and run the proper line in the upcoming cell depending on your operating system (and CUDA setup)."
   ]
  },
  {
   "cell_type": "code",
   "execution_count": 1,
   "metadata": {
    "pycharm": {
     "name": "#%%\n"
    }
   },
   "outputs": [],
   "source": [
    "# remove the \"> /dev/null\" if you want to see the output of installation status\n",
    "\n",
    "# For Linux and probably Windows (CPU)\n",
    "#!pip install torch==1.7.0+cpu torchvision==0.8.1+cpu -f https://download.pytorch.org/whl/torch_stable.html > /dev/null\n",
    "\n",
    "# For Linux and probably Windows (Nvidia GPU + CUDA toolkit 10.1)\n",
    "# !pip install torch==1.7.0+cu101 torchvision==0.8.1+cu101 -f https://download.pytorch.org/whl/torch_stable.html > /dev/null\n",
    "\n",
    "# For OS X/Mac\n",
    "# !pip install torch==1.7.0 torchvision==0.8.1 -f https://download.pytorch.org/whl/torch_stable.html > /dev/null"
   ]
  },
  {
   "cell_type": "markdown",
   "metadata": {
    "pycharm": {
     "name": "#%% md\n"
    }
   },
   "source": [
    "<div class=\"alert alert-block alert-warning\">\n",
    "    <b>Nvidia GPU</b>\n",
    "    <p>If you have a rather recent Nvidia GPU, you can go ahead and install the CUDA toolkit 10.1 together with a current version of cudnn (though it is possible to use other versions as long as you build it yourself). Afterwards, you can run the respective line in the cell above.</p>\n",
    "    <p>There are multiple setups on how to install those on both Linux and Windows, but it depends on your setup. If you want to utilize your GPU you have to go through those steps. Use Piazza for help if you get stuck.</p>\n",
    "</div>"
   ]
  },
  {
   "cell_type": "markdown",
   "metadata": {},
   "source": [
    "#### Checking PyTorch Installation and Version"
   ]
  },
  {
   "cell_type": "code",
   "execution_count": 2,
   "metadata": {
    "pycharm": {
     "name": "#%%\n"
    }
   },
   "outputs": [
    {
     "name": "stdout",
     "output_type": "stream",
     "text": [
      "PyTorch version Installed: 1.10.0\n",
      "Torchvision version Installed: 0.11.1\n",
      "\n",
      "you are using an another version of PyTorch. We expect PyTorch 1.7.0. You may continue using your version but it might cause dependency and compatibility issues.\n",
      "you are using an another version of torchvision. We expect torchvision 0.8. You can continue with your version but it might cause dependency and compatibility issues.\n"
     ]
    }
   ],
   "source": [
    "import torch\n",
    "import torchvision\n",
    "print(f\"PyTorch version Installed: {torch.__version__}\\nTorchvision version Installed: {torchvision.__version__}\\n\")\n",
    "if not torch.__version__.startswith(\"1.7\"):\n",
    "    print(\"you are using an another version of PyTorch. We expect PyTorch 1.7.0. You may continue using your version but it\"\n",
    "          \" might cause dependency and compatibility issues.\")\n",
    "if not torchvision.__version__.startswith(\"0.8\"):\n",
    "    print(\"you are using an another version of torchvision. We expect torchvision 0.8. You can continue with your version but it\"\n",
    "          \" might cause dependency and compatibility issues.\")"
   ]
  },
  {
   "cell_type": "markdown",
   "metadata": {},
   "source": [
    "That's the end of installation. Let's dive right into PyTorch!"
   ]
  },
  {
   "cell_type": "markdown",
   "metadata": {
    "pycharm": {
     "name": "#%% md\n"
    }
   },
   "source": [
    "# Getting Started\n",
    "\n",
    "In this section you will learn the basic element Tensor and some simple operations in PyTorch.\n",
    "The following block imports the required packages for the rest of the notebook."
   ]
  },
  {
   "cell_type": "code",
   "execution_count": 3,
   "metadata": {
    "pycharm": {
     "is_executing": true,
     "name": "#%%\n"
    }
   },
   "outputs": [],
   "source": [
    "import numpy as np\n",
    "import matplotlib.pyplot as plt\n",
    "import torchvision.transforms as transforms\n",
    "from torch.utils.data.sampler import SubsetRandomSampler\n",
    "\n",
    "import os\n",
    "import pandas as pd\n",
    "pd.options.mode.chained_assignment = None  # default='warn'\n",
    "\n",
    "%load_ext autoreload\n",
    "%autoreload 2\n",
    "%matplotlib inline"
   ]
  },
  {
   "cell_type": "markdown",
   "metadata": {},
   "source": [
    "## 1. Tensors\n",
    "\n",
    "[`torch.Tensor`](https://pytorch.org/docs/stable/tensors.html) is the central class of PyTorch.\n",
    "Tensors are similar to NumPyâ€™s ndarrays. The advantage of using Tensors is that one can easily transfer them from CPU to GPU and therefore computations on tensors can be accelerated with a GPU."
   ]
  },
  {
   "cell_type": "markdown",
   "metadata": {
    "pycharm": {
     "name": "#%% md\n"
    }
   },
   "source": [
    "## 1.1 Initializing Tensor\n",
    "Let us construct a NumPy array and a tensor of shape (2,3) directly from data values."
   ]
  },
  {
   "cell_type": "code",
   "execution_count": 4,
   "metadata": {
    "pycharm": {
     "is_executing": true,
     "name": "#%%\n"
    }
   },
   "outputs": [
    {
     "name": "stdout",
     "output_type": "stream",
     "text": [
      "Variable array_np:\n",
      "Datatype: <class 'numpy.ndarray'>\n",
      "Shape: (2, 3)\n",
      "Values:\n",
      " [[1 2 3]\n",
      " [5 6 7]]\n",
      "\n",
      "\n",
      "Variable array_ts:\n",
      "Datatype <class 'torch.Tensor'>\n",
      "Shape: torch.Size([2, 3])\n",
      "Values:\n",
      " tensor([[1, 2, 3],\n",
      "        [4, 5, 6]])\n"
     ]
    }
   ],
   "source": [
    "# Initializing the Numpy Array\n",
    "array_np = np.array([[1,2,3],[5,6,7]]) #NumPy array\n",
    "# Initializing the Tensor\n",
    "array_ts = torch.tensor([[1,2,3],[4,5,6]]) # Tensor\n",
    "\n",
    "print(\"Variable array_np:\\nDatatype: {}\\nShape: {}\".format(type(array_np), array_np.shape))\n",
    "print(\"Values:\\n\", array_np)\n",
    "print(\"\\n\\nVariable array_ts:\\nDatatype {}\\nShape: {}\".format(type(array_ts), array_ts.shape))\n",
    "print(\"Values:\\n\", array_ts)"
   ]
  },
  {
   "cell_type": "markdown",
   "metadata": {
    "pycharm": {
     "name": "#%% md\n"
    }
   },
   "source": [
    "## 1.2 Conversion between NumPy array and Tensor\n",
    "\n",
    "The conversion between NumPy ndarray and PyTorch tensor is quite easy.\n"
   ]
  },
  {
   "cell_type": "code",
   "execution_count": 5,
   "metadata": {
    "pycharm": {
     "is_executing": true,
     "name": "#%%\n"
    }
   },
   "outputs": [],
   "source": [
    "# Conversion\n",
    "array_np = np.array([1, 2, 3])\n",
    "# Conversion from  a numpy array to a Tensor\n",
    "array_ts_2 = torch.from_numpy(array_np) \n",
    "\n",
    "# Conversion from  Tensor to numpy array\n",
    "array_np_2 = array_ts_2.numpy() \n",
    "\n",
    "# Change a value of the np_array\n",
    "array_np_2[1] = -1 \n",
    "\n",
    "# Changes in the numpy array will also change the values in the tensor\n",
    "assert(array_np[1] == array_np_2[1])"
   ]
  },
  {
   "cell_type": "markdown",
   "metadata": {
    "pycharm": {
     "name": "#%% md\n"
    }
   },
   "source": [
    "<div class=\"alert alert-block alert-info\"><b></b> During the conversion, both ndarray and Tensor share the same memory address. Changes in value of one will\n",
    "affect the other.</div>\n",
    "\n",
    "## 1.3 Operations on Tensor\n",
    "\n",
    "### 1.3.1 Indexing\n",
    "\n",
    "We can use the NumPy array-like indexing for Tensors."
   ]
  },
  {
   "cell_type": "code",
   "execution_count": 6,
   "metadata": {
    "pycharm": {
     "is_executing": true,
     "name": "#%%\n"
    }
   },
   "outputs": [
    {
     "name": "stdout",
     "output_type": "stream",
     "text": [
      "tensor([[0, 2],\n",
      "        [0, 5]])\n"
     ]
    }
   ],
   "source": [
    "# Let us take the first two columns from the original tensor array and save it in a new one\n",
    "b = array_ts[:2, :2] \n",
    "\n",
    "# Let's assign the value of first column of the new variable to be zero \n",
    "b[:, 0] = 0 \n",
    "print(b)"
   ]
  },
  {
   "cell_type": "markdown",
   "metadata": {},
   "source": [
    "We will now select elements which satisfy a particular condition. In this example, let's find those elements of tensor which are array greater than one."
   ]
  },
  {
   "cell_type": "code",
   "execution_count": 7,
   "metadata": {
    "pycharm": {
     "is_executing": true,
     "name": "#%%\n"
    }
   },
   "outputs": [
    {
     "name": "stdout",
     "output_type": "stream",
     "text": [
      "tensor([[0, 2, 3],\n",
      "        [0, 5, 6]])\n",
      "tensor([[False,  True,  True],\n",
      "        [False,  True,  True]])\n",
      "tensor([2, 3, 5, 6])\n"
     ]
    }
   ],
   "source": [
    "# Index of the elements with value greater than one\n",
    "mask = array_ts > 1 \n",
    "new_array = array_ts[mask]\n",
    "print(array_ts)\n",
    "print(mask)\n",
    "print(new_array)"
   ]
  },
  {
   "cell_type": "markdown",
   "metadata": {},
   "source": [
    "Let's try performing the same operation in a single line of code!"
   ]
  },
  {
   "cell_type": "code",
   "execution_count": 8,
   "metadata": {
    "pycharm": {
     "is_executing": true,
     "name": "#%%\n"
    }
   },
   "outputs": [
    {
     "name": "stdout",
     "output_type": "stream",
     "text": [
      "tensor([True, True, True, True])\n"
     ]
    }
   ],
   "source": [
    "c = array_ts[array_ts>1]\n",
    "\n",
    "# Is the result same as the array from the previous cell?\n",
    "print(c == new_array)"
   ]
  },
  {
   "cell_type": "markdown",
   "metadata": {
    "pycharm": {
     "name": "#%% md\n"
    }
   },
   "source": [
    "### 1.3.2 Mathematical operations on Tensor\n",
    "\n",
    "#### Element-wise operations on Tensors"
   ]
  },
  {
   "cell_type": "code",
   "execution_count": 9,
   "metadata": {
    "pycharm": {
     "is_executing": true,
     "name": "#%%\n"
    }
   },
   "outputs": [
    {
     "name": "stdout",
     "output_type": "stream",
     "text": [
      "x + y: \n",
      "tensor([[ 6,  8],\n",
      "        [10, 12]])\n",
      "x + y: \n",
      "tensor([[ 6,  8],\n",
      "        [10, 12]])\n",
      "x + y: \n",
      "tensor([[ 6.,  8.],\n",
      "        [10., 12.]])\n"
     ]
    }
   ],
   "source": [
    "x = torch.tensor([[1,2],[3,4]])\n",
    "y = torch.tensor([[5,6],[7,8]])\n",
    "\n",
    "# Elementwise Addition of the tensors\n",
    "# [[ 6.0  8.0]\n",
    "#  [10.0 12.0]]\n",
    "\n",
    "# Addition - Syntax 1\n",
    "print(\"x + y: \\n{}\".format(x + y))\n",
    "\n",
    "# Addition - Syntax 2\n",
    "print(\"x + y: \\n{}\".format(torch.add(x, y)))\n",
    "\n",
    "# Addition - Syntax 3\n",
    "result_add = torch.empty(2, 2)\n",
    "torch.add(x, y, out=result_add)\n",
    "print(\"x + y: \\n{}\".format(result_add))"
   ]
  },
  {
   "cell_type": "markdown",
   "metadata": {
    "pycharm": {
     "name": "#%% md\n"
    }
   },
   "source": [
    "Similar syntax holds for other element-wise operations such as subtraction and multiplication.\n",
    "\n",
    "When dividing two integers in NumPy as well PyTorch, the result is always a **float**.   \n",
    "For example,"
   ]
  },
  {
   "cell_type": "code",
   "execution_count": 10,
   "metadata": {
    "pycharm": {
     "is_executing": true,
     "name": "#%%\n"
    }
   },
   "outputs": [
    {
     "name": "stdout",
     "output_type": "stream",
     "text": [
      "[[0.2        0.33333333]\n",
      " [0.42857143 0.5       ]]\n"
     ]
    }
   ],
   "source": [
    "x_np = np.array([[1,2],[3,4]])\n",
    "y_np = np.array([[5,6],[7,8]])\n",
    "print(x_np / y_np)"
   ]
  },
  {
   "cell_type": "markdown",
   "metadata": {},
   "source": [
    "## 1.4 Devices\n",
    "\n",
    "When training a neural network, it is important to make sure that all the required tensors as well as the model are on the same device. Tensors can be moved between the CPU and GPU using `.to` method."
   ]
  },
  {
   "cell_type": "markdown",
   "metadata": {},
   "source": [
    "Let us check if a GPU is available. If it is available, we will assign it to `device` and move the tensor `x` to the GPU."
   ]
  },
  {
   "cell_type": "code",
   "execution_count": 11,
   "metadata": {
    "pycharm": {
     "name": "#%%\n"
    }
   },
   "outputs": [
    {
     "name": "stdout",
     "output_type": "stream",
     "text": [
      "cuda:0\n",
      "Original device: cpu\n",
      "Current device: cuda:0\n"
     ]
    }
   ],
   "source": [
    "device = torch.device(\"cuda:0\" if torch.cuda.is_available() else \"cpu\")\n",
    "print(device)\n",
    "\n",
    "print(f\"Original device: {x.device}\") # \"cpu\"\n",
    "\n",
    "tensor = x.to(device)\n",
    "print(f\"Current device: {tensor.device}\") #\"cpu\" or \"cuda\""
   ]
  },
  {
   "cell_type": "markdown",
   "metadata": {},
   "source": [
    "So `x` has been moved on to a CUDA device for those who have a GPU; otherwise it's still on the CPU.\n",
    "\n",
    "<div class=\"alert alert-block alert-info\"><b>Tip:</b> Try including the <b>.to(device)</b> calls in your codes. It is then easier to port the code to run on a GPU.</div>"
   ]
  },
  {
   "cell_type": "markdown",
   "metadata": {
    "pycharm": {
     "name": "#%% md\n"
    }
   },
   "source": [
    "# 2. Training a classifier with PyTorch\n",
    "\n",
    "Now that we are introduced PyTorch tensors, we will look at how to use PyTorch to train neural networks. We will do the following steps:\n",
    "\n",
    "1. Load data \n",
    "2. Define a two-layer network\n",
    "3. Define a loss function and optimizer\n",
    "4. Train the network\n",
    "5. Test the network\n",
    "\n",
    "## 2.1 Loading Datasets\n",
    "\n",
    "The general procedure of loading data is :\n",
    "- Extract data from  source\n",
    "- Transform the data into a suitable form (for example, to a Tensor)\n",
    "- Put our data into an object to make it easy to access further on\n",
    "\n",
    "### 2.1.1 Loading the Housing Price dataset\n",
    "\n",
    "We'll use both our `DataLoader` class from the previous exercises and PyTorch's `DataLoader` to load the house price dataset that we used in Exercise 4 to classify the price of the houses."
   ]
  },
  {
   "cell_type": "markdown",
   "metadata": {},
   "source": [
    "Let us fetch the data and setup the `Dataset` class as in Exercise 3"
   ]
  },
  {
   "cell_type": "code",
   "execution_count": 12,
   "metadata": {
    "pycharm": {
     "name": "#%%\n"
    }
   },
   "outputs": [],
   "source": [
    "from exercise_code.data.csv_dataset import CSVDataset, get_exercise5_transform\n",
    "from exercise_code.data.dataloader import DataLoader as our_DataLoader\n",
    "\n",
    "# dataloading and preprocessing steps as in ex04 \n",
    "target_column = 'SalePrice'\n",
    "i2dl_exercises_path = os.path.dirname(os.path.abspath(os.getcwd()))\n",
    "root_path = os.path.join(i2dl_exercises_path, \"datasets\", 'housing')\n",
    "housing_file_path = os.path.join(root_path, \"housing_train.csv\")\n",
    "download_url = 'https://cdn3.vision.in.tum.de/~dl4cv/housing_train.zip'\n",
    "\n",
    "# Set up the transform to get two prepared columns\n",
    "select_two_columns_transform = get_exercise5_transform()\n",
    "\n",
    "# Set up the dataset\n",
    "our_csv_dataset = CSVDataset(target_column=target_column, root=root_path, download_url=download_url, mode=\"train\",\n",
    "                             transform=select_two_columns_transform)"
   ]
  },
  {
   "cell_type": "markdown",
   "metadata": {},
   "source": [
    "We will now set our `DataLoader` class to help us to load batches of data."
   ]
  },
  {
   "cell_type": "code",
   "execution_count": 15,
   "metadata": {},
   "outputs": [
    {
     "name": "stdout",
     "output_type": "stream",
     "text": [
      "Batch 0\n",
      "\n",
      "Dictionary Key: features\n",
      "Value Type <class 'numpy.ndarray'>\n",
      "Shape of the Value (4, 2)\n",
      "\n",
      "Dictionary Key: target\n",
      "Value Type <class 'numpy.ndarray'>\n",
      "Shape of the Value (4, 1)\n"
     ]
    }
   ],
   "source": [
    "# Let's look at the first batch of the data\n",
    "batch_size = 4\n",
    "our_dataloader = our_DataLoader(our_csv_dataset, batch_size=batch_size)\n",
    "\n",
    "for i, item in enumerate(our_dataloader):\n",
    "    print('Batch {}'.format(i))\n",
    "    for key in item:\n",
    "        print(\"\\nDictionary Key:\",key)\n",
    "        print(\"Value Type\",type(item[key]))\n",
    "        print(\"Shape of the Value\",item[key].shape)\n",
    "    \n",
    "    if i+1 >= 1:\n",
    "        break"
   ]
  },
  {
   "cell_type": "markdown",
   "metadata": {
    "pycharm": {
     "name": "#%% md\n"
    }
   },
   "source": [
    "In PyTorch we can use the [`DataLoader`](https://pytorch.org/docs/stable/data.html#torch.utils.data.DataLoader) class to accomplish the same objective. It provides more parameters than our `DataLoader` class, such as easy multiprocessing using `num_workers`. You can refer the documentation to learn those additional features."
   ]
  },
  {
   "cell_type": "code",
   "execution_count": 16,
   "metadata": {},
   "outputs": [
    {
     "name": "stdout",
     "output_type": "stream",
     "text": [
      "Batch 0\n",
      "\n",
      "Dictionary Key: features\n",
      "Value Type <class 'torch.Tensor'>\n",
      "Shape of the Value torch.Size([4, 2])\n",
      "\n",
      "Dictionary Key: target\n",
      "Value Type <class 'torch.Tensor'>\n",
      "Shape of the Value torch.Size([4, 1])\n"
     ]
    }
   ],
   "source": [
    "from torch.utils.data import DataLoader\n",
    "\n",
    "pytorch_dataloader = DataLoader(our_csv_dataset, batch_size=batch_size)\n",
    "\n",
    "# We can use the exact same way to iterate over samples\n",
    "for i, item in enumerate(pytorch_dataloader):\n",
    "    print('Batch {}'.format(i))\n",
    "    for key in item:\n",
    "        print(\"\\nDictionary Key:\",key)\n",
    "        print(\"Value Type\",type(item[key]))\n",
    "        print(\"Shape of the Value\",item[key].shape)\n",
    "    \n",
    "    if i+1 >= 1:\n",
    "        break"
   ]
  },
  {
   "cell_type": "markdown",
   "metadata": {},
   "source": [
    "<div class=\"alert alert-block alert-info\">As seen above, both the data loaders load the data with the same batch size and the data contains 2 features and 1 target. The only difference here is that PyTorch's <code>DataLoader</code> will automatically transform the dataset into <b>Tensor</b> data type.</div>"
   ]
  },
  {
   "cell_type": "markdown",
   "metadata": {},
   "source": [
    "### 2.1.2 Torchvision\n",
    "\n",
    "Specifically for computer vision, the `torchvision` packages has data loaders for many common datasets such\n",
    "as ImageNet, FashionMNIST, MNIST and additional data transformers for images in `torchvision.datasets` and `torch.utils.data.DataLoader` modules.\n",
    "\n",
    "This is highly convenient and is useful in avoiding  to write boilerplate code."
   ]
  },
  {
   "cell_type": "markdown",
   "metadata": {},
   "source": [
    "Let's try loading the [`Fashion-MNIST`](https://research.zalando.com/welcome/mission/research-projects/fashion-mnist/) dataset. It has  gray-scale images of size $28* 28$ belonging to 10 different classes of clothing accessories such as T-Shirt, Trousers, Sneakers."
   ]
  },
  {
   "cell_type": "markdown",
   "metadata": {},
   "source": [
    "`transforms.Compose` creates a series of transformation to prepare the dataset.\n",
    "- `transforms.ToTensor` convert `PIL image` or numpy.ndarray $(H \\times W\\times C)$ in the range [0,255] to a `torch.FloatTensor` of shape $(C \\times H \\times W)$ in the range [0.0, 1.0].\n",
    "\n",
    "- `transforms.Normalize` normalize a tensor image with the provided mean and standard deviation."
   ]
  },
  {
   "cell_type": "code",
   "execution_count": 17,
   "metadata": {},
   "outputs": [],
   "source": [
    "# Mean and standard deviations have to be sequences (e.g. tuples),hence we add a comma after the values\n",
    "transform = transforms.Compose([transforms.ToTensor(),\n",
    "                                transforms.Normalize((0.5,),(0.5,))]) "
   ]
  },
  {
   "cell_type": "markdown",
   "metadata": {},
   "source": [
    "`datasets.FashionMNIST` downloads the Fashion MNIST dataset and transforms it using our previous cell definition.  \n",
    "By setting the value of `train`, we get the training and test set."
   ]
  },
  {
   "cell_type": "code",
   "execution_count": 18,
   "metadata": {},
   "outputs": [
    {
     "name": "stdout",
     "output_type": "stream",
     "text": [
      "Downloading http://fashion-mnist.s3-website.eu-central-1.amazonaws.com/train-images-idx3-ubyte.gz\n",
      "Downloading http://fashion-mnist.s3-website.eu-central-1.amazonaws.com/train-images-idx3-ubyte.gz to ../datasets\\FashionMNIST\\raw\\train-images-idx3-ubyte.gz\n"
     ]
    },
    {
     "data": {
      "application/vnd.jupyter.widget-view+json": {
       "model_id": "6c0fce62997244a69cb70a1a753eb957",
       "version_major": 2,
       "version_minor": 0
      },
      "text/plain": [
       "  0%|          | 0/26421880 [00:00<?, ?it/s]"
      ]
     },
     "metadata": {},
     "output_type": "display_data"
    },
    {
     "name": "stdout",
     "output_type": "stream",
     "text": [
      "Extracting ../datasets\\FashionMNIST\\raw\\train-images-idx3-ubyte.gz to ../datasets\\FashionMNIST\\raw\n",
      "\n",
      "Downloading http://fashion-mnist.s3-website.eu-central-1.amazonaws.com/train-labels-idx1-ubyte.gz\n",
      "Downloading http://fashion-mnist.s3-website.eu-central-1.amazonaws.com/train-labels-idx1-ubyte.gz to ../datasets\\FashionMNIST\\raw\\train-labels-idx1-ubyte.gz\n"
     ]
    },
    {
     "data": {
      "application/vnd.jupyter.widget-view+json": {
       "model_id": "3d0bd096ba194b7fb96d79b0015f3f4c",
       "version_major": 2,
       "version_minor": 0
      },
      "text/plain": [
       "  0%|          | 0/29515 [00:00<?, ?it/s]"
      ]
     },
     "metadata": {},
     "output_type": "display_data"
    },
    {
     "name": "stdout",
     "output_type": "stream",
     "text": [
      "Extracting ../datasets\\FashionMNIST\\raw\\train-labels-idx1-ubyte.gz to ../datasets\\FashionMNIST\\raw\n",
      "\n",
      "Downloading http://fashion-mnist.s3-website.eu-central-1.amazonaws.com/t10k-images-idx3-ubyte.gz\n",
      "Downloading http://fashion-mnist.s3-website.eu-central-1.amazonaws.com/t10k-images-idx3-ubyte.gz to ../datasets\\FashionMNIST\\raw\\t10k-images-idx3-ubyte.gz\n"
     ]
    },
    {
     "data": {
      "application/vnd.jupyter.widget-view+json": {
       "model_id": "8a01a30680ff494d8cc6f1ca12835d1a",
       "version_major": 2,
       "version_minor": 0
      },
      "text/plain": [
       "  0%|          | 0/4422102 [00:00<?, ?it/s]"
      ]
     },
     "metadata": {},
     "output_type": "display_data"
    },
    {
     "name": "stdout",
     "output_type": "stream",
     "text": [
      "Extracting ../datasets\\FashionMNIST\\raw\\t10k-images-idx3-ubyte.gz to ../datasets\\FashionMNIST\\raw\n",
      "\n",
      "Downloading http://fashion-mnist.s3-website.eu-central-1.amazonaws.com/t10k-labels-idx1-ubyte.gz\n",
      "Downloading http://fashion-mnist.s3-website.eu-central-1.amazonaws.com/t10k-labels-idx1-ubyte.gz to ../datasets\\FashionMNIST\\raw\\t10k-labels-idx1-ubyte.gz\n"
     ]
    },
    {
     "data": {
      "application/vnd.jupyter.widget-view+json": {
       "model_id": "0404a1100fdb44adb924b8c0cfe748af",
       "version_major": 2,
       "version_minor": 0
      },
      "text/plain": [
       "  0%|          | 0/5148 [00:00<?, ?it/s]"
      ]
     },
     "metadata": {},
     "output_type": "display_data"
    },
    {
     "name": "stdout",
     "output_type": "stream",
     "text": [
      "Extracting ../datasets\\FashionMNIST\\raw\\t10k-labels-idx1-ubyte.gz to ../datasets\\FashionMNIST\\raw\n",
      "\n"
     ]
    }
   ],
   "source": [
    "fashion_mnist_dataset = torchvision.datasets.FashionMNIST(root='../datasets', train=True,\n",
    "                                                          download=True, transform=transform)\n",
    "fashion_mnist_test_dataset = torchvision.datasets.FashionMNIST(root='../datasets', train=False,\n",
    "                                                          download=True, transform=transform)"
   ]
  },
  {
   "cell_type": "markdown",
   "metadata": {},
   "source": [
    "\n",
    " `torch.utils.data.Dataloader` takes our training data or test data with parameter\n",
    "`batch_size` and `shuffle`. The variable `batch_size` defines how many samples per batch to load. The variable `shuffle=True` makes the data reshuffled at every epoch."
   ]
  },
  {
   "cell_type": "code",
   "execution_count": 19,
   "metadata": {},
   "outputs": [],
   "source": [
    "fashion_mnist_dataloader = DataLoader(fashion_mnist_dataset, batch_size=8)\n",
    "fashion_mnist_test_dataloader = DataLoader(fashion_mnist_test_dataset, batch_size=8)\n",
    "\n",
    "classes = ('T-shirt/top', 'Trouser', 'Pullover', 'Dress', 'Coat',\n",
    "           'Sandal', 'Shirt', 'Sneaker', 'Bag', 'Ankle boot')"
   ]
  },
  {
   "cell_type": "markdown",
   "metadata": {},
   "source": [
    "Let's look at the first batch of data from the `fashion_mnist_dataloader`."
   ]
  },
  {
   "cell_type": "code",
   "execution_count": 21,
   "metadata": {
    "pycharm": {
     "name": "#%%\n"
    }
   },
   "outputs": [
    {
     "name": "stdout",
     "output_type": "stream",
     "text": [
      "Batch 0\n",
      "Datatype of Image: <class 'torch.Tensor'>\n",
      "Shape of the Image: torch.Size([8, 1, 28, 28])\n",
      "Label Values: tensor([9, 0, 0, 3, 0, 2, 7, 2])\n"
     ]
    }
   ],
   "source": [
    "# We can use the exact same way to iterate over samples\n",
    "for i, item in enumerate(fashion_mnist_dataloader):\n",
    "    print('Batch {}'.format(i))\n",
    "    image, label = item\n",
    "    print(f\"Datatype of Image: {type(image)}\")\n",
    "    print(f\"Shape of the Image: {image.shape}\")\n",
    "    print(f\"Label Values: {label}\")\n",
    "\n",
    "    if i+1 >= 1:\n",
    "        break"
   ]
  },
  {
   "cell_type": "markdown",
   "metadata": {
    "pycharm": {
     "name": "#%% md\n"
    }
   },
   "source": [
    "Since we loaded the data with `batch_size` 8, the shape of the input is (8, 1, 28, 28). \n",
    "\n",
    "Let's look at  some of the training images."
   ]
  },
  {
   "cell_type": "code",
   "execution_count": 22,
   "metadata": {
    "pycharm": {
     "name": "#%%\n"
    }
   },
   "outputs": [
    {
     "data": {
      "image/png": "[encoded data removed]",
      "text/plain": [
       "<Figure size 432x288 with 1 Axes>"
      ]
     },
     "metadata": {
      "needs_background": "light"
     },
     "output_type": "display_data"
    },
    {
     "name": "stdout",
     "output_type": "stream",
     "text": [
      "Ankle boot T-shirt/top T-shirt/top Dress T-shirt/top Pullover Sneaker Pullover\n"
     ]
    }
   ],
   "source": [
    "def imshow(img):\n",
    "    img = img / 2 + 0.5 # unormalize\n",
    "    npimg = img.numpy()\n",
    "    plt.imshow(np.transpose(npimg, (1, 2, 0)))\n",
    "    plt.show()\n",
    "\n",
    "# get some random training images\n",
    "dataiter = iter(fashion_mnist_dataloader)\n",
    "images, labels = dataiter.next()\n",
    "# show images\n",
    "imshow(torchvision.utils.make_grid(images))\n",
    "# print labels\n",
    "print(' '.join('%5s' % classes[labels[j]] for j in range(8)))"
   ]
  },
  {
   "cell_type": "markdown",
   "metadata": {
    "pycharm": {
     "name": "#%% md\n"
    }
   },
   "source": [
    "### 2.2 Defining the Neural Network "
   ]
  },
  {
   "cell_type": "markdown",
   "metadata": {
    "pycharm": {
     "is_executing": true,
     "name": "#%% md\n"
    }
   },
   "source": [
    "We implemented the `ClassificationNet` class in Exercise 06. Let's use it here again for Fashion-MNIST.\n",
    "\n",
    "Have a look at our lengthy implementation first."
   ]
  },
  {
   "cell_type": "code",
   "execution_count": 23,
   "metadata": {
    "pycharm": {
     "name": "#%%\n"
    }
   },
   "outputs": [],
   "source": [
    "from exercise_code.networks.classification_net import ClassificationNet\n",
    "hidden_size = 100\n",
    "std = 1.0\n",
    "model_ex06 = ClassificationNet(num_layer=2,input_size=1*28*28, hidden_size=hidden_size, std=std)"
   ]
  },
  {
   "cell_type": "markdown",
   "metadata": {},
   "source": [
    "PyTorch provides a `nn.Module` that builds neural networks. Now, we will use it to define our network class."
   ]
  },
  {
   "cell_type": "code",
   "execution_count": 25,
   "metadata": {
    "pycharm": {
     "name": "#%%\n"
    }
   },
   "outputs": [],
   "source": [
    "import torch.nn as nn\n",
    "\n",
    "\n",
    "class Net(nn.Module):\n",
    "    def __init__(self, activation=nn.Sigmoid(),\n",
    "                 input_size=1*28*28, hidden_size=100, classes=10):\n",
    "        \n",
    "        super(Net, self).__init__()\n",
    "        self.input_size = input_size\n",
    "\n",
    "        # Here we initialize our activation and set up our two linear layers\n",
    "        self.activation = activation\n",
    "        self.fc1 = nn.Linear(input_size, hidden_size)\n",
    "        self.fc2 = nn.Linear(hidden_size, classes)\n",
    "\n",
    "    def forward(self, x):\n",
    "        x = x.view(-1, self.input_size) # flatten\n",
    "        x = self.fc1(x)\n",
    "        x = self.activation(x)\n",
    "        x = self.fc2(x)\n",
    "\n",
    "        return x"
   ]
  },
  {
   "cell_type": "markdown",
   "metadata": {
    "pycharm": {
     "name": "#%% md\n"
    }
   },
   "source": [
    "Looking at the constructor of `Net`, we have,\n",
    " - `super().__init__` creates a class that inherits attributes and behaviors from another class.\n",
    "\n",
    " - `self.fc1` creates an affine layer with `input_size` inputs and `hidden_size` outputs.\n",
    "\n",
    " - `self.fc2` is the second affine layer.\n",
    "\n",
    "The `Forward` function defines the forward pass of the mode.:\n",
    "\n",
    " - Input `x` is flattened with `x = x.view(-1, self.input_size)` to be able to use as input to the affine layer.\n",
    "\n",
    " - Apply `fc1`, `activation`, `fc2` sequentially to complete the network.\n",
    "    "
   ]
  },
  {
   "cell_type": "markdown",
   "metadata": {},
   "source": [
    "Central to all neural networks in PyTorch is the [`autograd`](https://pytorch.org/docs/stable/autograd.html) package. It provides automatic differentiation for all operations on Tensors. \n",
    "If we set the attribute `.requires_grad` of `torch.Tensor` as `True`, it tracks all operations applied on that tensor. Once all the computations are finished, the function `.backward()` computes the gradients into the `Tensor.grad` variable"
   ]
  },
  {
   "cell_type": "markdown",
   "metadata": {},
   "source": [
    "<div class=\"alert alert-block alert-info\">\n",
    "Thanks to the <b>autograd</b> package, we just have to define the <b>forward()</b> function. We can use any of the Tensor operations in the <b>forward()</b>  function.\n",
    " The <b>backward()</b> function (where gradients are computed through back-propagation) is automatically defined by PyTorch.\n",
    "    </div>"
   ]
  },
  {
   "cell_type": "markdown",
   "metadata": {},
   "source": [
    "We can use `print()` to look at all the defined layers of the network (but it won't show the information of the forward pass).\n",
    "\n",
    "The learned parameters of a model are returned by `[model_name].parameters()`. We can also access the parameters of different layers by `[model_name].[layer_name].parameters()`.\n",
    "\n",
    "Let's create an instance of the `Net` model and look at the parameters matrix shape for each of the layers."
   ]
  },
  {
   "cell_type": "code",
   "execution_count": 26,
   "metadata": {
    "pycharm": {
     "name": "#%%\n"
    }
   },
   "outputs": [
    {
     "name": "stdout",
     "output_type": "stream",
     "text": [
      "Net(\n",
      "  (activation): Sigmoid()\n",
      "  (fc1): Linear(in_features=784, out_features=100, bias=True)\n",
      "  (fc2): Linear(in_features=100, out_features=10, bias=True)\n",
      ")\n",
      "Shapes of the Parameter Matrix:\n",
      "torch.Size([100, 784])\n",
      "torch.Size([100])\n",
      "torch.Size([10, 100])\n",
      "torch.Size([10])\n"
     ]
    }
   ],
   "source": [
    "net = Net()\n",
    "# Always remember to move the network to the GPU/CPU depending on device\n",
    "net = net.to(device) \n",
    "\n",
    "print(net)\n",
    "\n",
    "print(\"Shapes of the Parameter Matrix:\")\n",
    "for parameter in net.parameters():\n",
    "        print(parameter.shape)"
   ]
  },
  {
   "cell_type": "markdown",
   "metadata": {
    "pycharm": {
     "name": "#%% md\n"
    }
   },
   "source": [
    "## 2.3 Defining the Loss function and optimizer\n",
    "\n",
    "Since it is a multi-class classification, we will use the Cross-Entropy loss and optimize it using SGD with momentum. We had implemented SGD with momentum in Exercise 05. Have a look at the implementations in `exercise_code/networks/optimizer.py` and `exercise_code/networks/loss.py`."
   ]
  },
  {
   "cell_type": "code",
   "execution_count": 27,
   "metadata": {
    "pycharm": {
     "name": "#%%\n"
    }
   },
   "outputs": [],
   "source": [
    "from exercise_code.networks.optimizer import sgd_momentum\n",
    "from exercise_code.networks.loss import CrossEntropyFromLogits"
   ]
  },
  {
   "cell_type": "markdown",
   "metadata": {
    "pycharm": {
     "name": "#%% md\n"
    }
   },
   "source": [
    "The `torch.nn` and `torch.optim` modules include a variety of loss functions and optimizers. We will initialize an instance of them."
   ]
  },
  {
   "cell_type": "code",
   "execution_count": 28,
   "metadata": {
    "pycharm": {
     "is_executing": true,
     "name": "#%%\n"
    }
   },
   "outputs": [],
   "source": [
    "import torch.optim as optim\n",
    "\n",
    "criterion = nn.CrossEntropyLoss()\n",
    "optimizer = optim.SGD(net.parameters(), lr=0.001, momentum=0.9)"
   ]
  },
  {
   "cell_type": "markdown",
   "metadata": {
    "pycharm": {
     "name": "#%% md\n"
    }
   },
   "source": [
    "## 2.4 Training the network\n",
    "\n",
    "We have completed setting up the dataloader, loss function as well as the optimizer. We are now all set for training the network.\n",
    "\n",
    "\n"
   ]
  },
  {
   "cell_type": "code",
   "execution_count": 29,
   "metadata": {
    "pycharm": {
     "name": "#%%\n"
    }
   },
   "outputs": [
    {
     "name": "stdout",
     "output_type": "stream",
     "text": [
      "[Epoch 1, Iteration  1000] loss: 1.505 acc: 57.86 %\n",
      "[Epoch 1, Iteration  2000] loss: 0.886 acc: 71.90 %\n",
      "[Epoch 1, Iteration  3000] loss: 0.733 acc: 74.49 %\n",
      "[Epoch 1, Iteration  4000] loss: 0.651 acc: 77.01 %\n",
      "[Epoch 1, Iteration  5000] loss: 0.607 acc: 78.76 %\n",
      "[Epoch 1, Iteration  6000] loss: 0.574 acc: 79.62 %\n",
      "[Epoch 1, Iteration  7000] loss: 0.554 acc: 80.23 %\n",
      "[Epoch 2, Iteration  1000] loss: 0.519 acc: 82.06 %\n",
      "[Epoch 2, Iteration  2000] loss: 0.506 acc: 81.99 %\n",
      "[Epoch 2, Iteration  3000] loss: 0.509 acc: 81.99 %\n",
      "[Epoch 2, Iteration  4000] loss: 0.485 acc: 82.91 %\n",
      "[Epoch 2, Iteration  5000] loss: 0.483 acc: 83.66 %\n",
      "[Epoch 2, Iteration  6000] loss: 0.471 acc: 83.55 %\n",
      "[Epoch 2, Iteration  7000] loss: 0.473 acc: 83.31 %\n",
      "FINISH.\n"
     ]
    }
   ],
   "source": [
    "# Initializing the list for storing the loss and accuracy\n",
    "\n",
    "train_loss_history = [] # loss\n",
    "train_acc_history = [] # accuracy\n",
    "\n",
    "for epoch in range(2):\n",
    "\n",
    "       \n",
    "    running_loss = 0.0\n",
    "    correct = 0.0\n",
    "    total = 0\n",
    "    \n",
    "    # Iterating through the minibatches of the data\n",
    "    \n",
    "    for i, data in enumerate(fashion_mnist_dataloader, 0):\n",
    "        \n",
    "        # data is a tuple of (inputs, labels)\n",
    "        X, y = data\n",
    "\n",
    "        X = X.to(device)\n",
    "        y = y.to(device)\n",
    "\n",
    "        # Reset the parameter gradients  for the current  minibatch iteration \n",
    "        optimizer.zero_grad()\n",
    "\n",
    "        \n",
    "        y_pred = net(X)             # Perform a forward pass on the network with inputs\n",
    "        loss = criterion(y_pred, y) # calculate the loss with the network predictions and ground Truth\n",
    "        loss.backward()             # Perform a backward pass to calculate the gradients\n",
    "        optimizer.step()            # Optimize the network parameters with calculated gradients\n",
    "\n",
    "        \n",
    "        # Accumulate the loss and calculate the accuracy of predictions\n",
    "        running_loss += loss.item()\n",
    "        _, preds = torch.max(y_pred, 1) #convert output probabilities of each class to a singular class prediction\n",
    "        correct += preds.eq(y).sum().item()\n",
    "        total += y.size(0)\n",
    "\n",
    "        # Print statistics to console\n",
    "        if i % 1000 == 999: # print every 1000 mini-batches\n",
    "            running_loss /= 1000\n",
    "            correct /= total\n",
    "            print(\"[Epoch %d, Iteration %5d] loss: %.3f acc: %.2f %%\" % (epoch+1, i+1, running_loss, 100*correct))\n",
    "            train_loss_history.append(running_loss)\n",
    "            train_acc_history.append(correct)\n",
    "            running_loss = 0.0\n",
    "            correct = 0.0\n",
    "            total = 0\n",
    "\n",
    "print('FINISH.')"
   ]
  },
  {
   "cell_type": "markdown",
   "metadata": {
    "pycharm": {
     "name": "#%% md\n"
    }
   },
   "source": [
    "So the general training pass is summarized below:\n",
    "\n",
    "- `zero_grad()`: Zero the gradient buffers of all the model parameters to start the current minibatch iteration.\n",
    "\n",
    "- `y_pred = net(X)`: Make a forward pass through the network by passing the images to the model to get the predictions, which are log probabilities of image belonging to each of the class.\n",
    "\n",
    "- `loss = criterion(y_pred, y)`: Calculate the loss from the generated predictions and the training data `y`.\n",
    "\n",
    "- `loss.backward()`: Perform a backward pass through the network to calculate the gradients for model parameters.\n",
    "\n",
    "- `optimizer.step()`: Do an optimization step to update the model parameters using the calculated gradients.\n",
    "\n",
    "We keep tracking the training loss and accuracy over time. The following plot shows average values for train loss and accuracy."
   ]
  },
  {
   "cell_type": "code",
   "execution_count": 30,
   "metadata": {
    "pycharm": {
     "name": "#%%\n"
    }
   },
   "outputs": [
    {
     "data": {
      "image/png": "[encoded data removed]",
      "text/plain": [
       "<Figure size 432x288 with 1 Axes>"
      ]
     },
     "metadata": {
      "needs_background": "light"
     },
     "output_type": "display_data"
    }
   ],
   "source": [
    "plt.plot(train_acc_history)\n",
    "plt.plot(train_loss_history)\n",
    "plt.title(\"FashionMNIST\")\n",
    "plt.xlabel('iteration')\n",
    "plt.ylabel('acc/loss')\n",
    "plt.legend(['acc', 'loss'])\n",
    "plt.show()"
   ]
  },
  {
   "cell_type": "markdown",
   "metadata": {},
   "source": [
    "## 2.5 Testing the performance of the model\n",
    "\n",
    "We have trained the network for 2 passes over the entire training dataset. Let's check the model performance using the test data.\n",
    "We will pass the test data to the model to predict the class label and check it against the ground-truth.\n"
   ]
  },
  {
   "cell_type": "code",
   "execution_count": 31,
   "metadata": {},
   "outputs": [],
   "source": [
    "# obtain one batch of test images\n",
    "dataiter = iter(fashion_mnist_test_dataloader)\n",
    "images, labels = dataiter.__next__()\n",
    "images, labels = images.to(device), labels.to(device)\n",
    "\n",
    "# get sample outputs\n",
    "outputs = net(images)\n",
    "# convert output probabilites to predicted class\n",
    "_, predicted = torch.max(outputs, 1)"
   ]
  },
  {
   "cell_type": "markdown",
   "metadata": {
    "pycharm": {
     "name": "#%%\n"
    }
   },
   "source": [
    "We will visualize the results to display the test images and their labels in the following format: `predicted (ground-truth)`. The text will be green for accurately classified examples and red for incorrect predictions."
   ]
  },
  {
   "cell_type": "code",
   "execution_count": 32,
   "metadata": {},
   "outputs": [
    {
     "name": "stderr",
     "output_type": "stream",
     "text": [
      "<ipython-input-32-8a29d8d7d235>:7: MatplotlibDeprecationWarning: Passing non-integers as three-element position specification is deprecated since 3.3 and will be removed two minor releases later.\n",
      "  ax = fig.add_subplot(2, 8/2, idx+1, xticks=[], yticks=[])\n"
     ]
    },
    {
     "data": {
      "image/png": "[encoded data removed]",
      "text/plain": [
       "<Figure size 1800x288 with 8 Axes>"
      ]
     },
     "metadata": {},
     "output_type": "display_data"
    }
   ],
   "source": [
    "# prep images for display\n",
    "images = images.cpu().numpy()\n",
    "\n",
    "# plot the images in the batch, along with predicted and true labels\n",
    "fig = plt.figure(figsize=(25,4))\n",
    "for idx in range(8):\n",
    "    ax = fig.add_subplot(2, 8/2, idx+1, xticks=[], yticks=[])\n",
    "    ax.imshow(np.squeeze(images[idx]), cmap='gray')\n",
    "    ax.set_title(f\"{classes[predicted[idx]]} ({classes[labels[idx]]})\",\n",
    "                color=\"green\" if predicted[idx]==labels[idx] else \"red\")"
   ]
  },
  {
   "cell_type": "markdown",
   "metadata": {
    "pycharm": {
     "name": "#%% md\n"
    }
   },
   "source": [
    "Let's find which classes of images performed well, and the classes that did not perform well!  \n",
    "`torch.no_grad()` makes sure that gradients are not calculated for the tensors since we only are performing a forward pass."
   ]
  },
  {
   "cell_type": "code",
   "execution_count": 33,
   "metadata": {
    "pycharm": {
     "name": "#%%\n"
    }
   },
   "outputs": [
    {
     "name": "stdout",
     "output_type": "stream",
     "text": [
      "Accuracy of T-shirt/top: 81 %\n",
      "Accuracy of     Trouser: 94 %\n",
      "Accuracy of    Pullover: 77 %\n",
      "Accuracy of       Dress: 89 %\n",
      "Accuracy of        Coat: 76 %\n",
      "Accuracy of      Sandal: 87 %\n",
      "Accuracy of       Shirt: 41 %\n",
      "Accuracy of     Sneaker: 92 %\n",
      "Accuracy of         Bag: 94 %\n",
      "Accuracy of  Ankle boot: 93 %\n"
     ]
    }
   ],
   "source": [
    "class_correct = list(0. for i in range(10))\n",
    "class_total = list(0. for i in range(10))\n",
    "\n",
    "with torch.no_grad():\n",
    "    for data in fashion_mnist_test_dataloader:\n",
    "        images, labels = data\n",
    "        images, labels = images.to(device), labels.to(device)\n",
    "        outputs = net(images)\n",
    "        _, predicted = torch.max(outputs, 1)\n",
    "        c = (predicted == labels).squeeze()\n",
    "        for i in range(4):\n",
    "            label = labels[i]\n",
    "            class_correct[label] += c[i].item()\n",
    "            class_total[label] += 1\n",
    "\n",
    "\n",
    "for i in range(10):\n",
    "    print('Accuracy of %11s: %2d %%' % (classes[i], 100 * class_correct[i] / class_total[i]))"
   ]
  },
  {
   "cell_type": "markdown",
   "metadata": {},
   "source": [
    "That's the end of the `PyTorch` Tutorial. In the next notebook, we will look at [`TensorBoard`](https://www.tensorflow.org/tensorboard) which helps us visualize the results of the training process."
   ]
  },
  {
   "cell_type": "markdown",
   "metadata": {
    "pycharm": {
     "name": "#%% md\n"
    }
   },
   "source": [
    "## References\n",
    "\n",
    "1. [PyTorch Tutorial](https://pytorch.org/tutorials/)\n",
    "\n",
    "2. [Fashion MNIST dataset training using PyTorch](https://medium.com/@aaysbt/fashion-mnist-data-training-using-pytorch-7f6ad71e96f4)\n",
    "\n",
    "\n"
   ]
  }
 ],
 "metadata": {
  "kernelspec": {
   "display_name": "Python 3",
   "language": "python",
   "name": "python3"
  },
  "language_info": {
   "codemirror_mode": {
    "name": "ipython",
    "version": 3
   },
   "file_extension": ".py",
   "mimetype": "text/x-python",
   "name": "python",
   "nbconvert_exporter": "python",
   "pygments_lexer": "ipython3",
   "version": "3.8.8"
  }
 },
 "nbformat": 4,
 "nbformat_minor": 4
}
